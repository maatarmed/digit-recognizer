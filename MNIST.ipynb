{
 "cells": [
  {
   "cell_type": "code",
   "execution_count": 106,
   "metadata": {},
   "outputs": [
    {
     "data": {
      "text/markdown": [
       "**MNIST Notebook**: *digit recognizer competition on kaggle with pytorch*\n"
      ],
      "text/plain": [
       "<IPython.core.display.Markdown object>"
      ]
     },
     "metadata": {},
     "output_type": "display_data"
    }
   ],
   "source": [
    "%%markdown \n",
    "**MNIST Notebook**: *digit recognizer competition on kaggle with pytorch*"
   ]
  },
  {
   "cell_type": "code",
   "execution_count": 9,
   "metadata": {
    "colab": {},
    "colab_type": "code",
    "id": "6NOpN8NmCOX2"
   },
   "outputs": [],
   "source": [
    "# imports\n",
    "import numpy as np \n",
    "import pandas as pd \n",
    "import matplotlib.pyplot as plt \n",
    "from collections import Counter\n",
    "from sklearn.metrics import confusion_matrix\n",
    "import itertools\n",
    "import seaborn as sns\n",
    "import torch\n",
    "import torch.nn as nn\n",
    "import torch.nn.functional as F\n",
    "from torch.autograd import Variable\n",
    "from sklearn.model_selection import train_test_split\n",
    "#plot on notebook matplotlib\n",
    "%matplotlib inline"
   ]
  },
  {
   "cell_type": "code",
   "execution_count": 107,
   "metadata": {
    "colab": {},
    "colab_type": "code",
    "id": "S0isD4ooCOYU"
   },
   "outputs": [],
   "source": [
    "#check if we have GPU available\n",
    "is_cuda=False\n",
    "if torch.cuda.is_available():\n",
    "    is_cuda = True"
   ]
  },
  {
   "cell_type": "code",
   "execution_count": 109,
   "metadata": {},
   "outputs": [
    {
     "data": {
      "text/markdown": [
       "## **Train set**\n"
      ],
      "text/plain": [
       "<IPython.core.display.Markdown object>"
      ]
     },
     "metadata": {},
     "output_type": "display_data"
    }
   ],
   "source": [
    "%%markdown \n",
    "## **Train set**"
   ]
  },
  {
   "cell_type": "code",
   "execution_count": 12,
   "metadata": {
    "colab": {
     "base_uri": "https://localhost:8080/",
     "height": 274
    },
    "colab_type": "code",
    "id": "QmjedZp7COYw",
    "outputId": "83effb76-7a34-4c20-b1e7-e27bb84b0c36"
   },
   "outputs": [
    {
     "name": "stdout",
     "output_type": "stream",
     "text": [
      "(42000, 785)\n"
     ]
    },
    {
     "data": {
      "text/html": [
       "<div>\n",
       "<style scoped>\n",
       "    .dataframe tbody tr th:only-of-type {\n",
       "        vertical-align: middle;\n",
       "    }\n",
       "\n",
       "    .dataframe tbody tr th {\n",
       "        vertical-align: top;\n",
       "    }\n",
       "\n",
       "    .dataframe thead th {\n",
       "        text-align: right;\n",
       "    }\n",
       "</style>\n",
       "<table border=\"1\" class=\"dataframe\">\n",
       "  <thead>\n",
       "    <tr style=\"text-align: right;\">\n",
       "      <th></th>\n",
       "      <th>label</th>\n",
       "      <th>pixel0</th>\n",
       "      <th>pixel1</th>\n",
       "      <th>pixel2</th>\n",
       "      <th>pixel3</th>\n",
       "      <th>pixel4</th>\n",
       "      <th>pixel5</th>\n",
       "      <th>pixel6</th>\n",
       "      <th>pixel7</th>\n",
       "      <th>pixel8</th>\n",
       "      <th>...</th>\n",
       "      <th>pixel774</th>\n",
       "      <th>pixel775</th>\n",
       "      <th>pixel776</th>\n",
       "      <th>pixel777</th>\n",
       "      <th>pixel778</th>\n",
       "      <th>pixel779</th>\n",
       "      <th>pixel780</th>\n",
       "      <th>pixel781</th>\n",
       "      <th>pixel782</th>\n",
       "      <th>pixel783</th>\n",
       "    </tr>\n",
       "  </thead>\n",
       "  <tbody>\n",
       "    <tr>\n",
       "      <th>0</th>\n",
       "      <td>1</td>\n",
       "      <td>0</td>\n",
       "      <td>0</td>\n",
       "      <td>0</td>\n",
       "      <td>0</td>\n",
       "      <td>0</td>\n",
       "      <td>0</td>\n",
       "      <td>0</td>\n",
       "      <td>0</td>\n",
       "      <td>0</td>\n",
       "      <td>...</td>\n",
       "      <td>0</td>\n",
       "      <td>0</td>\n",
       "      <td>0</td>\n",
       "      <td>0</td>\n",
       "      <td>0</td>\n",
       "      <td>0</td>\n",
       "      <td>0</td>\n",
       "      <td>0</td>\n",
       "      <td>0</td>\n",
       "      <td>0</td>\n",
       "    </tr>\n",
       "    <tr>\n",
       "      <th>1</th>\n",
       "      <td>0</td>\n",
       "      <td>0</td>\n",
       "      <td>0</td>\n",
       "      <td>0</td>\n",
       "      <td>0</td>\n",
       "      <td>0</td>\n",
       "      <td>0</td>\n",
       "      <td>0</td>\n",
       "      <td>0</td>\n",
       "      <td>0</td>\n",
       "      <td>...</td>\n",
       "      <td>0</td>\n",
       "      <td>0</td>\n",
       "      <td>0</td>\n",
       "      <td>0</td>\n",
       "      <td>0</td>\n",
       "      <td>0</td>\n",
       "      <td>0</td>\n",
       "      <td>0</td>\n",
       "      <td>0</td>\n",
       "      <td>0</td>\n",
       "    </tr>\n",
       "    <tr>\n",
       "      <th>2</th>\n",
       "      <td>1</td>\n",
       "      <td>0</td>\n",
       "      <td>0</td>\n",
       "      <td>0</td>\n",
       "      <td>0</td>\n",
       "      <td>0</td>\n",
       "      <td>0</td>\n",
       "      <td>0</td>\n",
       "      <td>0</td>\n",
       "      <td>0</td>\n",
       "      <td>...</td>\n",
       "      <td>0</td>\n",
       "      <td>0</td>\n",
       "      <td>0</td>\n",
       "      <td>0</td>\n",
       "      <td>0</td>\n",
       "      <td>0</td>\n",
       "      <td>0</td>\n",
       "      <td>0</td>\n",
       "      <td>0</td>\n",
       "      <td>0</td>\n",
       "    </tr>\n",
       "    <tr>\n",
       "      <th>3</th>\n",
       "      <td>4</td>\n",
       "      <td>0</td>\n",
       "      <td>0</td>\n",
       "      <td>0</td>\n",
       "      <td>0</td>\n",
       "      <td>0</td>\n",
       "      <td>0</td>\n",
       "      <td>0</td>\n",
       "      <td>0</td>\n",
       "      <td>0</td>\n",
       "      <td>...</td>\n",
       "      <td>0</td>\n",
       "      <td>0</td>\n",
       "      <td>0</td>\n",
       "      <td>0</td>\n",
       "      <td>0</td>\n",
       "      <td>0</td>\n",
       "      <td>0</td>\n",
       "      <td>0</td>\n",
       "      <td>0</td>\n",
       "      <td>0</td>\n",
       "    </tr>\n",
       "    <tr>\n",
       "      <th>4</th>\n",
       "      <td>0</td>\n",
       "      <td>0</td>\n",
       "      <td>0</td>\n",
       "      <td>0</td>\n",
       "      <td>0</td>\n",
       "      <td>0</td>\n",
       "      <td>0</td>\n",
       "      <td>0</td>\n",
       "      <td>0</td>\n",
       "      <td>0</td>\n",
       "      <td>...</td>\n",
       "      <td>0</td>\n",
       "      <td>0</td>\n",
       "      <td>0</td>\n",
       "      <td>0</td>\n",
       "      <td>0</td>\n",
       "      <td>0</td>\n",
       "      <td>0</td>\n",
       "      <td>0</td>\n",
       "      <td>0</td>\n",
       "      <td>0</td>\n",
       "    </tr>\n",
       "  </tbody>\n",
       "</table>\n",
       "<p>5 rows × 785 columns</p>\n",
       "</div>"
      ],
      "text/plain": [
       "   label  pixel0  pixel1  pixel2  pixel3  pixel4  pixel5  pixel6  pixel7  \\\n",
       "0      1       0       0       0       0       0       0       0       0   \n",
       "1      0       0       0       0       0       0       0       0       0   \n",
       "2      1       0       0       0       0       0       0       0       0   \n",
       "3      4       0       0       0       0       0       0       0       0   \n",
       "4      0       0       0       0       0       0       0       0       0   \n",
       "\n",
       "   pixel8  ...  pixel774  pixel775  pixel776  pixel777  pixel778  pixel779  \\\n",
       "0       0  ...         0         0         0         0         0         0   \n",
       "1       0  ...         0         0         0         0         0         0   \n",
       "2       0  ...         0         0         0         0         0         0   \n",
       "3       0  ...         0         0         0         0         0         0   \n",
       "4       0  ...         0         0         0         0         0         0   \n",
       "\n",
       "   pixel780  pixel781  pixel782  pixel783  \n",
       "0         0         0         0         0  \n",
       "1         0         0         0         0  \n",
       "2         0         0         0         0  \n",
       "3         0         0         0         0  \n",
       "4         0         0         0         0  \n",
       "\n",
       "[5 rows x 785 columns]"
      ]
     },
     "execution_count": 12,
     "metadata": {},
     "output_type": "execute_result"
    }
   ],
   "source": [
    "#train set\n",
    "train = pd.read_csv('input/train.csv')\n",
    "print(train.shape)\n",
    "train.head()"
   ]
  },
  {
   "cell_type": "code",
   "execution_count": null,
   "metadata": {
    "colab": {
     "base_uri": "https://localhost:8080/",
     "height": 35
    },
    "colab_type": "code",
    "id": "jZJua-XsCOZT",
    "outputId": "c63a4801-96f7-40c4-a2aa-b3c331900a0a"
   },
   "outputs": [],
   "source": [
    "#label counts\n",
    "count_labels = Counter(train['label'])\n",
    "print(count_labels)"
   ]
  },
  {
   "cell_type": "code",
   "execution_count": 113,
   "metadata": {},
   "outputs": [
    {
     "data": {
      "text/markdown": [
       "**visualize label count**\n"
      ],
      "text/plain": [
       "<IPython.core.display.Markdown object>"
      ]
     },
     "metadata": {},
     "output_type": "display_data"
    }
   ],
   "source": [
    "%%markdown \n",
    "**visualize label count**"
   ]
  },
  {
   "cell_type": "code",
   "execution_count": null,
   "metadata": {
    "colab": {
     "base_uri": "https://localhost:8080/",
     "height": 297
    },
    "colab_type": "code",
    "id": "jiECPQrjCOZi",
    "outputId": "5a1c95f5-ab74-4aad-bb2c-ea4af105498d"
   },
   "outputs": [],
   "source": [
    "#visualize label count\n",
    "sns.countplot(train['label'])"
   ]
  },
  {
   "cell_type": "code",
   "execution_count": 15,
   "metadata": {
    "colab": {},
    "colab_type": "code",
    "id": "RisbjYZ0COZz"
   },
   "outputs": [],
   "source": [
    "#features\n",
    "x_train = (train.iloc[:,1:].values).astype('float32')\n",
    "#labels\n",
    "y_train = train.iloc[:,0].values.astype('int32')"
   ]
  },
  {
   "cell_type": "code",
   "execution_count": 116,
   "metadata": {},
   "outputs": [
    {
     "data": {
      "text/markdown": [
       "**plot some values**\n"
      ],
      "text/plain": [
       "<IPython.core.display.Markdown object>"
      ]
     },
     "metadata": {},
     "output_type": "display_data"
    }
   ],
   "source": [
    "%%markdown \n",
    "**plot some values**"
   ]
  },
  {
   "cell_type": "code",
   "execution_count": 115,
   "metadata": {
    "colab": {
     "base_uri": "https://localhost:8080/",
     "height": 591
    },
    "colab_type": "code",
    "id": "8Vo9Y3A1COZ7",
    "outputId": "60c49298-3499-4cb4-f06d-73e49e992609"
   },
   "outputs": [
    {
     "data": {
      "image/png": "[encoded data removed]",
      "text/plain": [
       "<Figure size 1440x720 with 40 Axes>"
      ]
     },
     "metadata": {
      "needs_background": "light"
     },
     "output_type": "display_data"
    }
   ],
   "source": [
    "#plot some values\n",
    "plt.figure(figsize=(20,10))\n",
    "x, y = 8, 5\n",
    "for i in range(40):  \n",
    "    plt.subplot(y, x, i+1)\n",
    "    plt.title(str(y_train[i]))\n",
    "    plt.imshow(x_train[i].reshape((28,28)))\n",
    "    plt.axis(\"off\")\n",
    "plt.show()"
   ]
  },
  {
   "cell_type": "code",
   "execution_count": 123,
   "metadata": {},
   "outputs": [
    {
     "data": {
      "text/markdown": [
       "**normalize the input data**\n",
       "<br>\n",
       "**Then split our data to train/validation sets**\n"
      ],
      "text/plain": [
       "<IPython.core.display.Markdown object>"
      ]
     },
     "metadata": {},
     "output_type": "display_data"
    }
   ],
   "source": [
    "%%markdown \n",
    "**normalize the input data**\n",
    "<br>\n",
    "**Then split our data to train/validation sets**"
   ]
  },
  {
   "cell_type": "code",
   "execution_count": 17,
   "metadata": {
    "colab": {},
    "colab_type": "code",
    "id": "Y1ojhlOnCOaI"
   },
   "outputs": [],
   "source": [
    "#normalize the input data\n",
    "x_train = x_train/255.0\n",
    "\n",
    "#split into train and validation for our case 80 % train and 20% val\n",
    "x_train, x_val, y_train, y_val = train_test_split(x_train, y_train, test_size = 0.2) "
   ]
  },
  {
   "cell_type": "code",
   "execution_count": 42,
   "metadata": {
    "colab": {
     "base_uri": "https://localhost:8080/",
     "height": 90
    },
    "colab_type": "code",
    "id": "bMp2fW6gCOaU",
    "outputId": "d511e7fd-4d95-467c-ebd9-d4b064a574cc"
   },
   "outputs": [
    {
     "name": "stdout",
     "output_type": "stream",
     "text": [
      "x_train shape: torch.Size([33600, 784])\n",
      "33600 train samples\n",
      "8400 validation samples\n"
     ]
    }
   ],
   "source": [
    "print('x_train shape:', x_train.shape)\n",
    "print(x_train.shape[0], 'train samples')\n",
    "print(x_val.shape[0], 'validation samples')"
   ]
  },
  {
   "cell_type": "code",
   "execution_count": null,
   "metadata": {},
   "outputs": [],
   "source": [
    "%%markdown \n",
    "**make Feature and label to tensors **"
   ]
  },
  {
   "cell_type": "code",
   "execution_count": 19,
   "metadata": {
    "colab": {},
    "colab_type": "code",
    "id": "Pb_R8ypNCOad"
   },
   "outputs": [],
   "source": [
    "# labe and features tensors\n",
    "x_train = torch.from_numpy(x_train)\n",
    "y_train = torch.from_numpy(y_train).type(torch.LongTensor)\n",
    "x_val = torch.from_numpy(x_val)\n",
    "y_val = torch.from_numpy(y_val).type(torch.LongTensor)"
   ]
  },
  {
   "cell_type": "code",
   "execution_count": 125,
   "metadata": {},
   "outputs": [
    {
     "data": {
      "text/markdown": [
       "**Define our constants and prepare our data loader**\n"
      ],
      "text/plain": [
       "<IPython.core.display.Markdown object>"
      ]
     },
     "metadata": {},
     "output_type": "display_data"
    }
   ],
   "source": [
    "%%markdown \n",
    "**Define our constants and prepare our data loader**"
   ]
  },
  {
   "cell_type": "code",
   "execution_count": 21,
   "metadata": {
    "colab": {},
    "colab_type": "code",
    "id": "eMY8Ic9qCObO"
   },
   "outputs": [],
   "source": [
    "BATCH_SIZE = 64\n",
    "EPOCHS = 20\n",
    "INPUT_DIM = 28 * 28\n",
    "OUTPUT_DIM = 10\n",
    "train = torch.utils.data.TensorDataset(x_train,y_train)\n",
    "val = torch.utils.data.TensorDataset(x_val, y_val)\n",
    "data_loader = torch.utils.data.DataLoader(train, batch_size=BATCH_SIZE)\n",
    "val_loader = torch.utils.data.DataLoader(val, batch_size=BATCH_SIZE)"
   ]
  },
  {
   "cell_type": "code",
   "execution_count": 144,
   "metadata": {},
   "outputs": [
    {
     "data": {
      "text/markdown": [
       "## **Define model Class**\n",
       "**Input image --> Convolution layer(16 nodes) --> Batch Normalization --> Dropout(20%) --> Max Pooling(Kernel (2,2)) \n",
       "<br>&emsp;&emsp;&emsp;&emsp;&emsp;&emsp;--> Convolution layer(32 nodes) --> Batch Normalization --> Dropout(50%) --> Max Pooling(Kernel (2,2)) \n",
       "<br>&emsp;&emsp;&emsp;&emsp;&emsp;&emsp;--> fully connected layer(128 nodes) --> fully connected layer(64 nodes) --> fully connected layer(10 nodes) Which represents the Output Layer**\n"
      ],
      "text/plain": [
       "<IPython.core.display.Markdown object>"
      ]
     },
     "metadata": {},
     "output_type": "display_data"
    }
   ],
   "source": [
    "%%markdown \n",
    "## **Define model Class**\n",
    "**Input image --> Convolution layer(16 nodes) --> Batch Normalization --> Dropout(20%) --> Max Pooling(Kernel (2,2)) \n",
    "<br>&emsp;&emsp;&emsp;&emsp;&emsp;&emsp;--> Convolution layer(32 nodes) --> Batch Normalization --> Dropout(50%) --> Max Pooling(Kernel (2,2)) \n",
    "<br>&emsp;&emsp;&emsp;&emsp;&emsp;&emsp;--> fully connected layer(128 nodes) --> fully connected layer(64 nodes) --> fully connected layer(10 nodes) Which represents the Output Layer**"
   ]
  },
  {
   "cell_type": "code",
   "execution_count": 22,
   "metadata": {
    "colab": {},
    "colab_type": "code",
    "id": "83b4UkZ6CObt"
   },
   "outputs": [],
   "source": [
    "class CNN_MNIST(nn.Module):\n",
    "    \"\"\"\n",
    "    Our model's Class inherit from nn.Module\n",
    "    \"\"\"\n",
    "    def __init__(self):\n",
    "        super(CNN_MNIST, self).__init__()\n",
    "        #Conv1\n",
    "        self.conv1 = nn.Conv2d(in_channels=1, out_channels=16, kernel_size=5)\n",
    "        self.batch_norm1 = nn.BatchNorm2d(16)\n",
    "        self.drop1 = nn.Dropout2d(p=0.2)\n",
    "        \n",
    "        #Conv2\n",
    "        self.conv2 = nn.Conv2d(in_channels=16, out_channels=32, kernel_size=5)\n",
    "        self.batch_norm2 = nn.BatchNorm2d(32)\n",
    "        self.drop2 = nn.Dropout2d(p=0.5)\n",
    "        \n",
    "        #Conv3 \n",
    "        # self.conv3 = nn.Conv2d(in_channels=32, out_channels=64, kernel_size=5)\n",
    "        # self.drop3 = nn.Dropout2d(p=0.5)\n",
    "        \n",
    "        self.pool = nn.MaxPool2d(kernel_size=2)\n",
    "        \n",
    "        self.fc1 = nn.Linear(32 * 4 * 4, 128)\n",
    "        self.fc2 = nn.Linear(128, 64)\n",
    "        self.fc3 = nn.Linear(64, 10)\n",
    "        \n",
    "    def forward(self, x):\n",
    "        x = self.pool(F.relu(self.drop1(self.batch_norm1(self.conv1(x)))))\n",
    "        x = self.pool(F.relu(self.drop2(self.batch_norm2(self.conv2(x)))))\n",
    "        x = x.view(x.size(0), -1)\n",
    "        x = F.relu(self.fc1(x))\n",
    "        x = F.relu(self.fc2(x))\n",
    "        x = self.fc3(x)\n",
    "        return x"
   ]
  },
  {
   "cell_type": "code",
   "execution_count": null,
   "metadata": {},
   "outputs": [],
   "source": [
    "%%markdown \n",
    "**Define our loss and optimizer**"
   ]
  },
  {
   "cell_type": "code",
   "execution_count": 23,
   "metadata": {
    "colab": {},
    "colab_type": "code",
    "id": "2_Om52QHCOb8"
   },
   "outputs": [],
   "source": [
    "model = CNN_MNIST() #our model\n",
    "error = nn.CrossEntropyLoss() #Cross entropy loss because we have many classes (10)\n",
    "optimizer = torch.optim.SGD(model.parameters(), lr = 0.003, momentum=0.5) # SGD Optimizer"
   ]
  },
  {
   "cell_type": "code",
   "execution_count": null,
   "metadata": {},
   "outputs": [],
   "source": [
    "%%markdown \n",
    "**Fit method to train the model**"
   ]
  },
  {
   "cell_type": "code",
   "execution_count": 37,
   "metadata": {
    "colab": {},
    "colab_type": "code",
    "id": "XTr5M4aTCOcH"
   },
   "outputs": [],
   "source": [
    "def fit(model, data, phase='training', batch_size = 64, is_cuda=False):\n",
    "    \"\"\"\n",
    "    Method to train the model\n",
    "    :input model:(CNN_MNIST) Our model (in this case is the CNN_MNIST model class)\n",
    "    :input data:(dataLoader) our training / validation data to train the model on and validate\n",
    "    :input phase: (String) 'training' to train model 'validation' to make predictions and validate the model\n",
    "    :input batch_size: (int) batch size we feed to our neural network\n",
    "    :input is_cuda: (Bool) wheather to use cuda or not (GPU)\n",
    "    :return loss: (float) loss value for one epoch\n",
    "    :return accuracy: (float) accuracy value for one epoch\n",
    "    \"\"\"\n",
    "    if phase == 'training':\n",
    "        model.train()\n",
    "    elif phase == 'validation':\n",
    "        model.eval()\n",
    "    loss_values = 0.0\n",
    "    correct_values = 0\n",
    "    for batch_idx, (image, label) in enumerate(data):\n",
    "        if is_cuda:\n",
    "            image, label = image.cuda(), label.cuda()\n",
    "        try:\n",
    "            image, label = Variable(image.view(batch_size, 1, 28, 28)), Variable(label)\n",
    "        except:\n",
    "            image, label = Variable(image.view(int(batch_size/4), 1, 28, 28)), Variable(label)\n",
    "        if phase == 'training':\n",
    "            optimizer.zero_grad()\n",
    "        output = model(image)\n",
    "        #print(output)\n",
    "        loss = error(output, label)\n",
    "        loss_values += loss.data\n",
    "        predictions = output.data.max(dim=1, keepdim=True)[1]\n",
    "        correct_values += predictions.eq(label.data.view_as(predictions)).cpu().sum()\n",
    "        if phase == 'training':\n",
    "            loss.backward()\n",
    "            optimizer.step()\n",
    "    loss = loss_values / len(data.dataset)\n",
    "    accuracy = 100. * correct_values / len(data.dataset)\n",
    "    print(f'\\n{phase} loss is {loss:{5}.{2}} and {phase} accuracy is \\\n",
    "          {accuracy:{10}.{4}}\\n=============================================\\')\n",
    "    return loss, accuracy"
   ]
  },
  {
   "cell_type": "code",
   "execution_count": null,
   "metadata": {
    "colab": {
     "base_uri": "https://localhost:8080/",
     "height": 857
    },
    "colab_type": "code",
    "id": "zZU2h5UQCOcO",
    "outputId": "75565448-5fb5-4325-992e-788803df775e"
   },
   "outputs": [],
   "source": [
    "#validation / traing lists for accuracy and loss values during training\n",
    "train_loss_list, val_loss_list = [], []\n",
    "train_accuracy_list, val_accuracy_list = [], []\n",
    "\n",
    "for epoch in range(EPOCHS):\n",
    "    print(epoch)\n",
    "    #Training\n",
    "    train_epoch_loss, train_epoch_accuracy = fit(model, data_loader, batch_size=BATCH_SIZE) \n",
    "    #Validating\n",
    "    val_epoch_loss, val_epoch_accuracy = fit(model, val_loader, phase='validation', batch_size=BATCH_SIZE)\n",
    "    \n",
    "    train_loss_list.append(train_epoch_loss)\n",
    "    train_accuracy_list.append(train_epoch_accuracy)\n",
    "    val_loss_list.append(val_epoch_loss)\n",
    "    val_accuracy_list.append(val_epoch_accuracy)\n"
   ]
  },
  {
   "cell_type": "code",
   "execution_count": 40,
   "metadata": {},
   "outputs": [
    {
     "data": {
      "image/png": "[encoded data removed]",
      "text/plain": [
       "<Figure size 432x288 with 1 Axes>"
      ]
     },
     "metadata": {
      "needs_background": "light"
     },
     "output_type": "display_data"
    }
   ],
   "source": [
    "#LOSS PLOT\n",
    "plt.plot(range(1, len(train_loss_list)+1), train_loss_list,'b', label = 'Training')\n",
    "plt.plot(range(1, len(val_loss_list)+1), val_loss_list,'r', label = 'Validation')\n",
    "plt.xlabel(\"Number of iteration\")\n",
    "plt.ylabel(\"Loss / training vs validation\")\n",
    "plt.title(\"CNN: Loss  during training & validation phase\")\n",
    "plt.show()"
   ]
  },
  {
   "cell_type": "code",
   "execution_count": 41,
   "metadata": {},
   "outputs": [
    {
     "data": {
      "image/png": "[encoded data removed]",
      "text/plain": [
       "<Figure size 432x288 with 1 Axes>"
      ]
     },
     "metadata": {
      "needs_background": "light"
     },
     "output_type": "display_data"
    }
   ],
   "source": [
    "#ACCURACY PLOT\n",
    "plt.plot(range(1, len(train_accuracy_list)+1), train_accuracy_list,'b', label = 'Training')\n",
    "plt.plot(range(1, len(val_accuracy_list)+1), val_accuracy_list,'r', label = 'Validation')\n",
    "plt.xlabel(\"Number of iteration\")\n",
    "plt.ylabel(\"Accuracy / training vs validation\")\n",
    "plt.title(\"CNN: Accuracy  during training & validation phase\")\n",
    "plt.show()"
   ]
  },
  {
   "cell_type": "code",
   "execution_count": 70,
   "metadata": {},
   "outputs": [],
   "source": [
    "def predict(model, data):\n",
    "    model.eval()\n",
    "    test_predictions = torch.LongTensor()\n",
    "    for batch_idx, (image,) in enumerate(data):\n",
    "        image = Variable(image.view(1, 1, 28, 28))\n",
    "        output = model(image)\n",
    "        prediction = output.data.max(dim=1, keepdim=True)[1]\n",
    "        test_predictions = torch.cat((test_predictions, prediction), dim=0)\n",
    "    return test_predictions"
   ]
  },
  {
   "cell_type": "code",
   "execution_count": 73,
   "metadata": {
    "colab": {
     "base_uri": "https://localhost:8080/",
     "height": 274
    },
    "colab_type": "code",
    "id": "rKkw9Cl7COZD",
    "outputId": "bffe4eda-bd02-431e-804f-caf2cafb8b1a"
   },
   "outputs": [
    {
     "name": "stdout",
     "output_type": "stream",
     "text": [
      "(28000, 784)\n",
      "<torch.utils.data.dataset.TensorDataset object at 0x0000026AEFA308C8>\n"
     ]
    }
   ],
   "source": [
    "#TEST SET\n",
    "test_set= pd.read_csv(\"input/test.csv\")\n",
    "print(test_set.shape)\n",
    "x_test = test_set.values.astype('float32')\n",
    "X_test = x_test/255.0 # Normalize\n",
    "X_test = torch.from_numpy(X_test) #make it as torch tensor\n",
    "test = torch.utils.data.TensorDataset(X_test)\n",
    "test_loader = torch.utils.data.DataLoader(test)\n",
    "predictions = predict(model, test_loader)"
   ]
  },
  {
   "cell_type": "code",
   "execution_count": 74,
   "metadata": {},
   "outputs": [],
   "source": [
    "pred_df = pd.DataFrame(np.c_[np.arange(1, len(test_set)+1)[:,None], predictions.numpy()], \n",
    "                      columns=['ImageId', 'Label'])\n",
    "pred_df.to_csv('submission.csv', index=False)"
   ]
  },
  {
   "cell_type": "code",
   "execution_count": 99,
   "metadata": {},
   "outputs": [
    {
     "data": {
      "image/png": "[encoded data removed]",
      "text/plain": [
       "<Figure size 1440x720 with 40 Axes>"
      ]
     },
     "metadata": {
      "needs_background": "light"
     },
     "output_type": "display_data"
    }
   ],
   "source": [
    "plt.figure(figsize=(20,10))\n",
    "x, y = 8, 5\n",
    "for i in range(40):  \n",
    "    plt.subplot(y, x, i+1)\n",
    "    plt.title(str(pred_df.iloc[i,1]))\n",
    "    plt.imshow(x_test[i].reshape((28,28)))\n",
    "    plt.axis(\"off\")\n",
    "plt.show()"
   ]
  },
  {
   "cell_type": "code",
   "execution_count": null,
   "metadata": {},
   "outputs": [],
   "source": []
  }
 ],
 "metadata": {
  "accelerator": "GPU",
  "colab": {
   "name": "MNIST.ipynb",
   "provenance": []
  },
  "kernelspec": {
   "display_name": "mulino_bianco",
   "language": "python",
   "name": "mulino_bianco"
  },
  "language_info": {
   "codemirror_mode": {
    "name": "ipython",
    "version": 3
   },
   "file_extension": ".py",
   "mimetype": "text/x-python",
   "name": "python",
   "nbconvert_exporter": "python",
   "pygments_lexer": "ipython3",
   "version": "3.5.6"
  }
 },
 "nbformat": 4,
 "nbformat_minor": 2
}
